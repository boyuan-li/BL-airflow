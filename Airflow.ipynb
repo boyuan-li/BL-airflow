{
 "cells": [
  {
   "cell_type": "code",
   "execution_count": 5,
   "id": "a7ce7b9e-a782-45aa-9226-9e976c7f5e2d",
   "metadata": {},
   "outputs": [],
   "source": [
    "# !pip install apache-airflow "
   ]
  },
  {
   "cell_type": "markdown",
   "id": "118e2b88-d907-4e68-9801-a51078587023",
   "metadata": {},
   "source": [
    "# Tutorial"
   ]
  },
  {
   "cell_type": "markdown",
   "id": "ece6e6be-9e95-4b48-9a96-79337864a031",
   "metadata": {},
   "source": [
    "## 1. Example pipeline definition"
   ]
  },
  {
   "cell_type": "code",
   "execution_count": 9,
   "id": "c0f47412-4ec6-4c32-9e17-789e7361bda9",
   "metadata": {},
   "outputs": [],
   "source": [
    "from datetime import datetime, timedelta\n",
    "from textwrap import dedent\n",
    "\n",
    "# The DAG object; we'll need this to instantiate a DAG\n",
    "from airflow import DAG\n",
    "\n",
    "# Operators; we need this to operate!\n",
    "from airflow.operators.bash import BashOperator\n",
    "\n",
    "# These args will get passed on to each operator\n",
    "# You can override them on a per-task basis during operator initialization\n",
    "default_args = {\n",
    "    'owner': 'airflow',\n",
    "    'depends_on_past': False,\n",
    "    'email': ['airflow@example.com'],\n",
    "    'email_on_failure': False,\n",
    "    'email_on_retry': False,\n",
    "    'retries': 1,\n",
    "    'retry_delay': timedelta(minutes=5),\n",
    "    # 'queue': 'bash_queue',\n",
    "    # 'pool': 'backfill',\n",
    "    # 'priority_weight': 10,\n",
    "    # 'end_date': datetime(2016, 1, 1),\n",
    "    # 'wait_for_downstream': False,\n",
    "    # 'dag': dag,\n",
    "    # 'sla': timedelta(hours=2),\n",
    "    # 'execution_timeout': timedelta(seconds=300),\n",
    "    # 'on_failure_callback': some_function,\n",
    "    # 'on_success_callback': some_other_function,\n",
    "    # 'on_retry_callback': another_function,\n",
    "    # 'sla_miss_callback': yet_another_function,\n",
    "    # 'trigger_rule': 'all_success'\n",
    "}\n",
    "\n",
    "with DAG(\n",
    "    'tutorial',\n",
    "    default_args=default_args,\n",
    "    description='A simple tutorial DAG',\n",
    "    schedule_interval=timedelta(days=1),\n",
    "    start_date=datetime(2021, 1, 1),\n",
    "    catchup=False,\n",
    "    tags=['example'],\n",
    ") as dag:\n",
    "\n",
    "    # t1, t2 and t3 are examples of tasks created by instantiating operators\n",
    "    t1 = BashOperator(\n",
    "        task_id='print_date',\n",
    "        bash_command='date',\n",
    "    )\n",
    "\n",
    "    t2 = BashOperator(\n",
    "        task_id='sleep',\n",
    "        depends_on_past=False,\n",
    "        bash_command='sleep 5',\n",
    "        retries=3,\n",
    "    )\n",
    "    t1.doc_md = dedent(\n",
    "        \"\"\"\\\n",
    "    #### Task Documentation\n",
    "    You can document your task using the attributes `doc_md` (markdown),\n",
    "    `doc` (plain text), `doc_rst`, `doc_json`, `doc_yaml` which gets\n",
    "    rendered in the UI's Task Instance Details page.\n",
    "    ![img](http://montcs.bloomu.edu/~bobmon/Semesters/2012-01/491/import%20soul.png)\n",
    "\n",
    "    \"\"\"\n",
    "    )\n",
    "\n",
    "    dag.doc_md = __doc__  # providing that you have a docstring at the beginning of the DAG\n",
    "    dag.doc_md = \"\"\"\n",
    "    This is a documentation placed anywhere\n",
    "    \"\"\"  # otherwise, type it like this\n",
    "    templated_command = dedent(\n",
    "        \"\"\"\n",
    "    {% for i in range(5) %}\n",
    "        echo \"{{ ds }}\"\n",
    "        echo \"{{ macros.ds_add(ds, 7)}}\"\n",
    "        echo \"{{ params.my_param }}\"\n",
    "    {% endfor %}\n",
    "    \"\"\"\n",
    "    )\n",
    "\n",
    "    t3 = BashOperator(\n",
    "        task_id='templated',\n",
    "        depends_on_past=False,\n",
    "        bash_command=templated_command,\n",
    "        params={'my_param': 'Parameter I passed in'},\n",
    "    )\n",
    "\n",
    "    t1 >> [t2, t3]"
   ]
  },
  {
   "cell_type": "markdown",
   "id": "0441e633-8c50-4cd2-bce9-4ee110790fa1",
   "metadata": {},
   "source": [
    "## 2. It's a DAG definition file"
   ]
  },
  {
   "cell_type": "markdown",
   "id": "eb88018a-b457-412d-b2f9-a06f1fafe59c",
   "metadata": {},
   "source": [
    "## 3. Importing modules"
   ]
  },
  {
   "cell_type": "code",
   "execution_count": null,
   "id": "cd9877af-0c53-4dae-9d9b-b4e6090520cb",
   "metadata": {},
   "outputs": [],
   "source": [
    "from datetime import datetime, timedelta\n",
    "from textwrap import dedent\n",
    "\n",
    "# The DAG object; we'll need this to instantiate a DAG\n",
    "from airflow import DAG\n",
    "\n",
    "# Operators; we need this to operate!\n",
    "from airflow.operators.bash import BashOperator"
   ]
  },
  {
   "cell_type": "markdown",
   "id": "89c0ecf4-ab88-4b5c-a684-46e4b2d3edf3",
   "metadata": {},
   "source": [
    "## 4. Default arguments"
   ]
  },
  {
   "cell_type": "code",
   "execution_count": null,
   "id": "b82d9be8-087e-4fa5-8007-51a999514a3a",
   "metadata": {},
   "outputs": [],
   "source": [
    "# These args will get passed on to each operator\n",
    "# You can override them on a per-task basis during operator initialization\n",
    "default_args = {\n",
    "    'owner': 'airflow',\n",
    "    'depends_on_past': False,\n",
    "    'email': ['airflow@example.com'],\n",
    "    'email_on_failure': False,\n",
    "    'email_on_retry': False,\n",
    "    'retries': 1,\n",
    "    'retry_delay': timedelta(minutes=5),\n",
    "    # 'queue': 'bash_queue',\n",
    "    # 'pool': 'backfill',\n",
    "    # 'priority_weight': 10,\n",
    "    # 'end_date': datetime(2016, 1, 1),\n",
    "    # 'wait_for_downstream': False,\n",
    "    # 'dag': dag,\n",
    "    # 'sla': timedelta(hours=2),\n",
    "    # 'execution_timeout': timedelta(seconds=300),\n",
    "    # 'on_failure_callback': some_function,\n",
    "    # 'on_success_callback': some_other_function,\n",
    "    # 'on_retry_callback': another_function,\n",
    "    # 'sla_miss_callback': yet_another_function,\n",
    "    # 'trigger_rule': 'all_success'\n",
    "}"
   ]
  },
  {
   "cell_type": "markdown",
   "id": "c0bc9149-38cb-4c66-a24e-630f535ac9d0",
   "metadata": {},
   "source": [
    "## 5. Instantiate a DAG"
   ]
  },
  {
   "cell_type": "code",
   "execution_count": null,
   "id": "78cf46d7-e9b5-4ccc-bea9-293f7df6d43d",
   "metadata": {},
   "outputs": [],
   "source": [
    "with DAG(\n",
    "    'tutorial',\n",
    "    default_args=default_args,\n",
    "    description='A simple tutorial DAG',\n",
    "    schedule_interval=timedelta(days=1),\n",
    "    start_date=datetime(2021, 1, 1),\n",
    "    catchup=False,\n",
    "    tags=['example'],\n",
    ") as dag:"
   ]
  },
  {
   "cell_type": "markdown",
   "id": "3ea291ab-368e-4294-b0f0-fd47b4cb339a",
   "metadata": {},
   "source": [
    "## 6. Tasks"
   ]
  },
  {
   "cell_type": "code",
   "execution_count": null,
   "id": "281101a1-5de5-4396-a2c3-1f5c15f198b7",
   "metadata": {},
   "outputs": [],
   "source": [
    "t1 = BashOperator(\n",
    "    task_id='print_date',\n",
    "    bash_command='date',\n",
    ")\n",
    "\n",
    "t2 = BashOperator(\n",
    "    task_id='sleep',\n",
    "    depends_on_past=False,\n",
    "    bash_command='sleep 5',\n",
    "    retries=3,\n",
    ")"
   ]
  },
  {
   "cell_type": "markdown",
   "id": "75ab2e05-37e5-4537-a8e4-5c7d83d0acad",
   "metadata": {},
   "source": [
    "## 7. Templating with Jinja"
   ]
  },
  {
   "cell_type": "code",
   "execution_count": null,
   "id": "a972da4a-6d4e-4d0a-9299-d30abf33821f",
   "metadata": {},
   "outputs": [],
   "source": [
    "templated_command = dedent(\n",
    "    \"\"\"\n",
    "{% for i in range(5) %}\n",
    "    echo \"{{ ds }}\"\n",
    "    echo \"{{ macros.ds_add(ds, 7)}}\"\n",
    "    echo \"{{ params.my_param }}\"\n",
    "{% endfor %}\n",
    "\"\"\"\n",
    ")\n",
    "\n",
    "t3 = BashOperator(\n",
    "    task_id='templated',\n",
    "    depends_on_past=False,\n",
    "    bash_command=templated_command,\n",
    "    params={'my_param': 'Parameter I passed in'},\n",
    ")"
   ]
  },
  {
   "cell_type": "markdown",
   "id": "ef2452d9-563d-43dd-a133-d7827ad0763c",
   "metadata": {},
   "source": [
    "## 8. Adding DAG and tasks documentation"
   ]
  },
  {
   "cell_type": "code",
   "execution_count": null,
   "id": "4a4dd8d3-0629-4b09-bc44-76757c6517be",
   "metadata": {},
   "outputs": [],
   "source": [
    "t1.doc_md = dedent(\n",
    "    \"\"\"\\\n",
    "#### Task Documentation\n",
    "You can document your task using the attributes `doc_md` (markdown),\n",
    "`doc` (plain text), `doc_rst`, `doc_json`, `doc_yaml` which gets\n",
    "rendered in the UI's Task Instance Details page.\n",
    "![img](http://montcs.bloomu.edu/~bobmon/Semesters/2012-01/491/import%20soul.png)\n",
    "\n",
    "\"\"\"\n",
    ")\n",
    "\n",
    "dag.doc_md = __doc__  # providing that you have a docstring at the beginning of the DAG\n",
    "dag.doc_md = \"\"\"\n",
    "This is a documentation placed anywhere\n",
    "\"\"\"  # otherwise, type it like this"
   ]
  },
  {
   "cell_type": "markdown",
   "id": "5ed7f69a-1dd3-42a4-b059-6fdc73755a43",
   "metadata": {},
   "source": [
    "## 9. Setting up dependencies"
   ]
  },
  {
   "cell_type": "code",
   "execution_count": null,
   "id": "b86f20f1-dc0f-4b56-9db9-9215486360fd",
   "metadata": {},
   "outputs": [],
   "source": [
    "t1.set_downstream(t2)\n",
    "\n",
    "# This means that t2 will depend on t1\n",
    "# running successfully to run.\n",
    "# It is equivalent to:\n",
    "t2.set_upstream(t1)\n",
    "\n",
    "# The bit shift operator can also be\n",
    "# used to chain operations:\n",
    "t1 >> t2\n",
    "\n",
    "# And the upstream dependency with the\n",
    "# bit shift operator:\n",
    "t2 << t1\n",
    "\n",
    "# Chaining multiple dependencies becomes\n",
    "# concise with the bit shift operator:\n",
    "t1 >> t2 >> t3\n",
    "\n",
    "# A list of tasks can also be set as\n",
    "# dependencies. These operations\n",
    "# all have the same effect:\n",
    "t1.set_downstream([t2, t3])\n",
    "t1 >> [t2, t3]\n",
    "[t2, t3] << t1"
   ]
  },
  {
   "cell_type": "markdown",
   "id": "c993c74b-dbef-401c-8258-860dc2cfacbc",
   "metadata": {},
   "source": [
    "## 10. Recap"
   ]
  },
  {
   "cell_type": "code",
   "execution_count": 10,
   "id": "2de1ead9-ef3a-4d97-8425-eda1f08e9d74",
   "metadata": {},
   "outputs": [],
   "source": [
    "from datetime import datetime, timedelta\n",
    "from textwrap import dedent\n",
    "\n",
    "# The DAG object; we'll need this to instantiate a DAG\n",
    "from airflow import DAG\n",
    "\n",
    "# Operators; we need this to operate!\n",
    "from airflow.operators.bash import BashOperator\n",
    "# These args will get passed on to each operator\n",
    "# You can override them on a per-task basis during operator initialization\n",
    "default_args = {\n",
    "    'owner': 'airflow',\n",
    "    'depends_on_past': False,\n",
    "    'email': ['airflow@example.com'],\n",
    "    'email_on_failure': False,\n",
    "    'email_on_retry': False,\n",
    "    'retries': 1,\n",
    "    'retry_delay': timedelta(minutes=5),\n",
    "    # 'queue': 'bash_queue',\n",
    "    # 'pool': 'backfill',\n",
    "    # 'priority_weight': 10,\n",
    "    # 'end_date': datetime(2016, 1, 1),\n",
    "    # 'wait_for_downstream': False,\n",
    "    # 'dag': dag,\n",
    "    # 'sla': timedelta(hours=2),\n",
    "    # 'execution_timeout': timedelta(seconds=300),\n",
    "    # 'on_failure_callback': some_function,\n",
    "    # 'on_success_callback': some_other_function,\n",
    "    # 'on_retry_callback': another_function,\n",
    "    # 'sla_miss_callback': yet_another_function,\n",
    "    # 'trigger_rule': 'all_success'\n",
    "}\n",
    "with DAG(\n",
    "    'tutorial',\n",
    "    default_args=default_args,\n",
    "    description='A simple tutorial DAG',\n",
    "    schedule_interval=timedelta(days=1),\n",
    "    start_date=datetime(2021, 1, 1),\n",
    "    catchup=False,\n",
    "    tags=['example'],\n",
    ") as dag:\n",
    "\n",
    "    # t1, t2 and t3 are examples of tasks created by instantiating operators\n",
    "    t1 = BashOperator(\n",
    "        task_id='print_date',\n",
    "        bash_command='date',\n",
    "    )\n",
    "\n",
    "    t2 = BashOperator(\n",
    "        task_id='sleep',\n",
    "        depends_on_past=False,\n",
    "        bash_command='sleep 5',\n",
    "        retries=3,\n",
    "    )\n",
    "    t1.doc_md = dedent(\n",
    "        \"\"\"\\\n",
    "    #### Task Documentation\n",
    "    You can document your task using the attributes `doc_md` (markdown),\n",
    "    `doc` (plain text), `doc_rst`, `doc_json`, `doc_yaml` which gets\n",
    "    rendered in the UI's Task Instance Details page.\n",
    "    ![img](http://montcs.bloomu.edu/~bobmon/Semesters/2012-01/491/import%20soul.png)\n",
    "\n",
    "    \"\"\"\n",
    "    )\n",
    "\n",
    "    dag.doc_md = __doc__  # providing that you have a docstring at the beginning of the DAG\n",
    "    dag.doc_md = \"\"\"\n",
    "    This is a documentation placed anywhere\n",
    "    \"\"\"  # otherwise, type it like this\n",
    "    templated_command = dedent(\n",
    "        \"\"\"\n",
    "    {% for i in range(5) %}\n",
    "        echo \"{{ ds }}\"\n",
    "        echo \"{{ macros.ds_add(ds, 7)}}\"\n",
    "        echo \"{{ params.my_param }}\"\n",
    "    {% endfor %}\n",
    "    \"\"\"\n",
    "    )\n",
    "\n",
    "    t3 = BashOperator(\n",
    "        task_id='templated',\n",
    "        depends_on_past=False,\n",
    "        bash_command=templated_command,\n",
    "        params={'my_param': 'Parameter I passed in'},\n",
    "    )\n",
    "\n",
    "    t1 >> [t2, t3]"
   ]
  },
  {
   "cell_type": "markdown",
   "id": "c235a720-ae4b-481b-8407-1ca88f3ce15e",
   "metadata": {},
   "source": [
    "## 11. Testing"
   ]
  },
  {
   "cell_type": "markdown",
   "id": "5af23a99-b566-475d-bf83-7cf82ed9c194",
   "metadata": {},
   "source": [
    "### 11.1 Running the script"
   ]
  },
  {
   "cell_type": "markdown",
   "id": "d508c94e-7b4e-4928-a9fe-50f20329960c",
   "metadata": {},
   "source": [
    "### 11.2 Command lind metadata validation"
   ]
  },
  {
   "cell_type": "code",
   "execution_count": 15,
   "id": "a9efe5e1-72cb-48e0-a9e6-94663e6abfd0",
   "metadata": {},
   "outputs": [],
   "source": [
    "# initialize the database tables\n",
    "# !airflow db init"
   ]
  },
  {
   "cell_type": "code",
   "execution_count": 16,
   "id": "77282d0a-0078-4d6f-999d-5d01af55389e",
   "metadata": {},
   "outputs": [],
   "source": [
    "# print the list of active DAGs\n",
    "# !airflow dags list"
   ]
  },
  {
   "cell_type": "code",
   "execution_count": 17,
   "id": "1fa261a7-d184-44c3-8f14-2e09e6293d5e",
   "metadata": {},
   "outputs": [],
   "source": [
    "# prints the list of tasks in the \"tutorial\" DAG\n",
    "# !airflow tasks list tutorial"
   ]
  },
  {
   "cell_type": "code",
   "execution_count": 18,
   "id": "09d7364f-b6df-4154-9c04-edfd41ec5249",
   "metadata": {},
   "outputs": [],
   "source": [
    "# prints the hierarchy of tasks in the \"tutorial\" DAG\n",
    "# !airflow tasks list tutorial --tree"
   ]
  },
  {
   "cell_type": "markdown",
   "id": "9733ba26-03bf-4de7-b6b2-2cab52ddc070",
   "metadata": {},
   "source": [
    "### 11.3 Testing"
   ]
  },
  {
   "cell_type": "code",
   "execution_count": 21,
   "id": "10230929-5e9b-4de2-a3d9-2aae3b2c072c",
   "metadata": {},
   "outputs": [],
   "source": [
    "# command layout: command subcommand dag_id task_id date\n",
    "\n",
    "# testing print_date\n",
    "# !airflow tasks test tutorial print_date 2015-06-01"
   ]
  },
  {
   "cell_type": "code",
   "execution_count": 22,
   "id": "5f6223cb-c22e-4179-b446-4750a57b9d95",
   "metadata": {},
   "outputs": [],
   "source": [
    "# testing sleep\n",
    "# !airflow tasks test tutorial sleep 2015-06-01"
   ]
  },
  {
   "cell_type": "code",
   "execution_count": 24,
   "id": "244fb9d8-79ca-407f-8f22-4502f3583c39",
   "metadata": {},
   "outputs": [],
   "source": [
    "# testing templated\n",
    "# !airflow tasks test tutorial templated 2015-06-01"
   ]
  },
  {
   "cell_type": "markdown",
   "id": "a2936335-8771-42b4-9a0a-8e9da44c751f",
   "metadata": {},
   "source": [
    "### 11.4 Backfill"
   ]
  },
  {
   "cell_type": "code",
   "execution_count": 28,
   "id": "e17685f3-0b37-4f3b-a855-f65409ee1567",
   "metadata": {},
   "outputs": [],
   "source": [
    "# optional, start a web server in debug mode in the background\n",
    "# !airflow webserver --debug "
   ]
  },
  {
   "cell_type": "code",
   "execution_count": 30,
   "id": "2f480935-1ee2-4e46-a697-02a106a14f86",
   "metadata": {},
   "outputs": [],
   "source": [
    "# start your backfill on a date range\n",
    "# !airflow dags backfill tutorial \\\n",
    "#    --start-date 2015-06-01 \\\n",
    "#    --end-date 2015-06-07"
   ]
  },
  {
   "cell_type": "markdown",
   "id": "2056805d-a19c-4317-bab6-74c701cbe16d",
   "metadata": {},
   "source": [
    "### 11.5 Pipeline example"
   ]
  },
  {
   "cell_type": "markdown",
   "id": "be5d2c42-5778-41bb-9efa-598dbc40704d",
   "metadata": {},
   "source": [
    "### 11.6 Initial setup"
   ]
  },
  {
   "cell_type": "markdown",
   "id": "01e1c1ee-679a-4312-adeb-f53c1339e3b7",
   "metadata": {},
   "source": [
    "## 12. What's next"
   ]
  }
 ],
 "metadata": {
  "kernelspec": {
   "display_name": "Python 3",
   "language": "python",
   "name": "python3"
  },
  "language_info": {
   "codemirror_mode": {
    "name": "ipython",
    "version": 3
   },
   "file_extension": ".py",
   "mimetype": "text/x-python",
   "name": "python",
   "nbconvert_exporter": "python",
   "pygments_lexer": "ipython3",
   "version": "3.8.8"
  }
 },
 "nbformat": 4,
 "nbformat_minor": 5
}
